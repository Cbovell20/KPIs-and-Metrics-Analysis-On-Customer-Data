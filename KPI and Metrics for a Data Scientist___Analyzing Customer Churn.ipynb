{
 "cells": [
  {
   "cell_type": "markdown",
   "id": "deb654dd",
   "metadata": {},
   "source": [
    "# Project Overview"
   ]
  },
  {
   "cell_type": "markdown",
   "id": "ce0bcbbd",
   "metadata": {},
   "source": [
    "In this project, we will explore a customer database and use data analysis techniques to understand customer churn. We will use Python and SQL to extract and clean the data, and create visualizations using Tableau to identify trends and insights related to customer behavior."
   ]
  },
  {
   "cell_type": "markdown",
   "id": "1b317546",
   "metadata": {},
   "source": [
    "# Dataset"
   ]
  },
  {
   "cell_type": "markdown",
   "id": "bf5d7f07",
   "metadata": {},
   "source": [
    "We will use a sample customer database that includes customer demographic information (age, gender, location), purchase history, and whether or not the customer has churned. The dataset contains 10 customers with data that will be used to calculate churn rates and other metrics."
   ]
  },
  {
   "cell_type": "markdown",
   "id": "3c22048a",
   "metadata": {},
   "source": [
    "Let's load our python libraries "
   ]
  },
  {
   "cell_type": "code",
   "execution_count": 1,
   "id": "6b76b12d",
   "metadata": {},
   "outputs": [],
   "source": [
    "import pandas as pd \n",
    "import sqlite3\n",
    "import matplotlib.pyplot as plt \n",
    "import seaborn as sns\n",
    "import numpy as np\n",
    "%matplotlib inline\n",
    "import warnings\n",
    "warnings.filterwarnings(\"ignore\")"
   ]
  },
  {
   "cell_type": "code",
   "execution_count": 6,
   "id": "cf5cfe4c",
   "metadata": {},
   "outputs": [],
   "source": [
    "# Now we need to create a dataset for the customers by making a dictionary \n",
    "data = {'customer_id': [1, 2, 3, 4, 5, 6, 7, 8, 9, 10],\n",
    "        'age': [25, 30, 35, 40, 45, 50, 55, 60, 65, 70],\n",
    "        'gender': ['Female', 'Male', 'Male', 'Female', 'Male', 'Female', 'Male', 'Female', 'Male', 'Female'],\n",
    "        'location': ['USA', 'Canada', 'UK', 'USA', 'USA', 'Canada', 'UK', 'USA', 'USA', 'Canada'],\n",
    "        'purchase_history': ['$100', '$250', '$500', '$75', '$300', '$150', '$200', '$50', '$100', '$1000'],\n",
    "        'churned': ['No', 'No', 'Yes', 'No', 'Yes', 'No', 'No', 'No', 'Yes', 'No']}\n",
    "\n",
    "# Create a dataframe \n",
    "df = pd.DataFrame(data) \n",
    "\n",
    "# Save as an excel file for later use\n",
    "df.to_excel('customers_data.xlsx', index=False)"
   ]
  },
  {
   "cell_type": "markdown",
   "id": "1dfde3b8",
   "metadata": {},
   "source": [
    "Our goal is to analyze customer data and identify key factors that are driving customer churn.\n",
    "Now we'll use SQL to clean and extract the data. "
   ]
  },
  {
   "cell_type": "code",
   "execution_count": 8,
   "id": "796a48f0",
   "metadata": {},
   "outputs": [],
   "source": [
    "# Read excel file into Pandas DataFrame\n",
    "df = pd.read_excel('customers_data.xlsx')\n",
    "\n",
    "# Create a connection to the SQLite3 database \n",
    "conn = sqlite3.connect('customer_data.db')\n",
    "\n",
    "# Save the DataFrame to a SQLite3 database\n",
    "df.to_sql('customer_data', conn, if_exists='replace', index=False)\n",
    "\n",
    "# Close the connection\n",
    "conn.close()"
   ]
  },
  {
   "cell_type": "markdown",
   "id": "cc9c488e",
   "metadata": {},
   "source": [
    "Now that we set up our SQL database, now we can start the data cleaning process. Here is what our data looks like"
   ]
  },
  {
   "cell_type": "code",
   "execution_count": 37,
   "id": "d6ac089d",
   "metadata": {},
   "outputs": [
    {
     "data": {
      "text/html": [
       "<div>\n",
       "<style scoped>\n",
       "    .dataframe tbody tr th:only-of-type {\n",
       "        vertical-align: middle;\n",
       "    }\n",
       "\n",
       "    .dataframe tbody tr th {\n",
       "        vertical-align: top;\n",
       "    }\n",
       "\n",
       "    .dataframe thead th {\n",
       "        text-align: right;\n",
       "    }\n",
       "</style>\n",
       "<table border=\"1\" class=\"dataframe\">\n",
       "  <thead>\n",
       "    <tr style=\"text-align: right;\">\n",
       "      <th></th>\n",
       "      <th>age</th>\n",
       "      <th>gender</th>\n",
       "      <th>location</th>\n",
       "      <th>purchase_history</th>\n",
       "      <th>churned</th>\n",
       "    </tr>\n",
       "    <tr>\n",
       "      <th>customer_id</th>\n",
       "      <th></th>\n",
       "      <th></th>\n",
       "      <th></th>\n",
       "      <th></th>\n",
       "      <th></th>\n",
       "    </tr>\n",
       "  </thead>\n",
       "  <tbody>\n",
       "    <tr>\n",
       "      <th>1</th>\n",
       "      <td>25</td>\n",
       "      <td>Female</td>\n",
       "      <td>USA</td>\n",
       "      <td>$100</td>\n",
       "      <td>No</td>\n",
       "    </tr>\n",
       "    <tr>\n",
       "      <th>2</th>\n",
       "      <td>30</td>\n",
       "      <td>Male</td>\n",
       "      <td>Canada</td>\n",
       "      <td>$250</td>\n",
       "      <td>No</td>\n",
       "    </tr>\n",
       "    <tr>\n",
       "      <th>3</th>\n",
       "      <td>35</td>\n",
       "      <td>Male</td>\n",
       "      <td>UK</td>\n",
       "      <td>$500</td>\n",
       "      <td>Yes</td>\n",
       "    </tr>\n",
       "    <tr>\n",
       "      <th>4</th>\n",
       "      <td>40</td>\n",
       "      <td>Female</td>\n",
       "      <td>USA</td>\n",
       "      <td>$75</td>\n",
       "      <td>No</td>\n",
       "    </tr>\n",
       "    <tr>\n",
       "      <th>5</th>\n",
       "      <td>45</td>\n",
       "      <td>Male</td>\n",
       "      <td>USA</td>\n",
       "      <td>$300</td>\n",
       "      <td>Yes</td>\n",
       "    </tr>\n",
       "    <tr>\n",
       "      <th>6</th>\n",
       "      <td>50</td>\n",
       "      <td>Female</td>\n",
       "      <td>Canada</td>\n",
       "      <td>$150</td>\n",
       "      <td>No</td>\n",
       "    </tr>\n",
       "    <tr>\n",
       "      <th>7</th>\n",
       "      <td>55</td>\n",
       "      <td>Male</td>\n",
       "      <td>UK</td>\n",
       "      <td>$200</td>\n",
       "      <td>No</td>\n",
       "    </tr>\n",
       "    <tr>\n",
       "      <th>8</th>\n",
       "      <td>60</td>\n",
       "      <td>Female</td>\n",
       "      <td>USA</td>\n",
       "      <td>$50</td>\n",
       "      <td>No</td>\n",
       "    </tr>\n",
       "    <tr>\n",
       "      <th>9</th>\n",
       "      <td>65</td>\n",
       "      <td>Male</td>\n",
       "      <td>USA</td>\n",
       "      <td>$100</td>\n",
       "      <td>Yes</td>\n",
       "    </tr>\n",
       "    <tr>\n",
       "      <th>10</th>\n",
       "      <td>70</td>\n",
       "      <td>Female</td>\n",
       "      <td>Canada</td>\n",
       "      <td>$1000</td>\n",
       "      <td>No</td>\n",
       "    </tr>\n",
       "  </tbody>\n",
       "</table>\n",
       "</div>"
      ],
      "text/plain": [
       "             age  gender location purchase_history churned\n",
       "customer_id                                               \n",
       "1             25  Female      USA             $100      No\n",
       "2             30    Male   Canada             $250      No\n",
       "3             35    Male       UK             $500     Yes\n",
       "4             40  Female      USA              $75      No\n",
       "5             45    Male      USA             $300     Yes\n",
       "6             50  Female   Canada             $150      No\n",
       "7             55    Male       UK             $200      No\n",
       "8             60  Female      USA              $50      No\n",
       "9             65    Male      USA             $100     Yes\n",
       "10            70  Female   Canada            $1000      No"
      ]
     },
     "execution_count": 37,
     "metadata": {},
     "output_type": "execute_result"
    }
   ],
   "source": [
    "# Create a connection to the SQLite3 database \n",
    "conn = sqlite3.connect('customer_data.db')\n",
    "\n",
    "# Create a cursor \n",
    "c = conn.cursor()\n",
    "\n",
    "# Execute the query and fetch the results\n",
    "c.execute(\"SELECT * FROM customer_data\")\n",
    "\n",
    "# fetch the results \n",
    "pd.DataFrame(c.fetchall(), columns= ['customer_id', 'age', 'gender', 'location', 'purchase_history', 'churned']).set_index('customer_id')\n",
    "\n",
    "# Either commit the action\n",
    "# conn.commit()\n",
    "          \n",
    "# Close the connection \n",
    "# conn.close"
   ]
  },
  {
   "cell_type": "code",
   "execution_count": 34,
   "id": "8d26e768",
   "metadata": {},
   "outputs": [
    {
     "name": "stdout",
     "output_type": "stream",
     "text": [
      "[]\n"
     ]
    }
   ],
   "source": [
    "# Remove duplicates example\n",
    "c.execute(\"DELETE FROM customer_data WHERE rowid NOT IN(SELECT MIN(rowid) FROM customer_data GROUP BY customer_id);\")\n",
    "print(c.fetchall())"
   ]
  },
  {
   "cell_type": "code",
   "execution_count": 35,
   "id": "0bfa76f7",
   "metadata": {},
   "outputs": [
    {
     "name": "stdout",
     "output_type": "stream",
     "text": [
      "[]\n"
     ]
    }
   ],
   "source": [
    "# Remove any null example\n",
    "c.execute(\"DELETE FROM customer_data WHERE age IS NULL OR gender IS NULL OR location IS NULL OR purchase_history IS NULL OR churned IS NULL;\")\n",
    "print(c.fetchall())"
   ]
  },
  {
   "cell_type": "code",
   "execution_count": 33,
   "id": "9b49b251",
   "metadata": {},
   "outputs": [
    {
     "name": "stdout",
     "output_type": "stream",
     "text": [
      "[(6,)]\n"
     ]
    }
   ],
   "source": [
    "# Testing out SQLite3 before commencing \n",
    "c.execute(\"SELECT count(age) FROM customer_data WHERE age>40\")\n",
    "\n",
    "print(c.fetchall())"
   ]
  },
  {
   "cell_type": "markdown",
   "id": "72ef6f43",
   "metadata": {},
   "source": [
    "Now let's analyze and calculate the various KPIs and metrics like the customer retention rate, churn rate, customer lifetime value (CLV), customer acquisition cost (CAC), etc."
   ]
  },
  {
   "cell_type": "code",
   "execution_count": 78,
   "id": "c87186a7",
   "metadata": {},
   "outputs": [
    {
     "name": "stdout",
     "output_type": "stream",
     "text": [
      "Retension rate: 70.00%\n"
     ]
    }
   ],
   "source": [
    "# customer rentention rate calculation:\n",
    "\n",
    "# Number of customers\n",
    "c.execute(\"SELECT COUNT(customer_id) FROM customer_data\")\n",
    "total_customers = c.fetchone()[0]\n",
    "\n",
    "# Number of customers who churned \n",
    "c.execute(\"SELECT COUNT(customer_id) FROM customer_data WHERE churned='Yes'\")\n",
    "churned_customers = c.fetchone()[0]\n",
    "\n",
    "# customer rentention rate \n",
    "retention_rate = (total_customers - churned_customers)/ total_customers\n",
    "print(f\"Retension rate: {retention_rate:.2%}\")"
   ]
  },
  {
   "cell_type": "code",
   "execution_count": 79,
   "id": "4c3bb7d2",
   "metadata": {},
   "outputs": [
    {
     "name": "stdout",
     "output_type": "stream",
     "text": [
      "Churn rate: 30.00%\n"
     ]
    }
   ],
   "source": [
    "# churn rate \n",
    "churn_rate = churned_customers / total_customers\n",
    "print(f\"Churn rate: {churn_rate:.2%}\")"
   ]
  },
  {
   "cell_type": "code",
   "execution_count": 94,
   "id": "1d462ccd",
   "metadata": {},
   "outputs": [
    {
     "name": "stdout",
     "output_type": "stream",
     "text": [
      "Total Revenue: 2725\n",
      "Average revenue per customer: 272.5\n",
      "Customer Lifetime Value: 190.75\n"
     ]
    }
   ],
   "source": [
    "# Calculate the customer lifetime value (CLV):\n",
    "\n",
    "# Total Revenue Generated \n",
    "c.execute(\"SELECT SUM(purchase_history) FROM customer_data\")\n",
    "c.fetchone() # Showing as 0 because it is not an integer\n",
    "\n",
    "# So do it again but use the cast function to change it \n",
    "c.execute(\"SELECT SUM(CAST(REPLACE(purchase_history, '$', '')AS integer)) FROM customer_data\")\n",
    "total_revenue = c.fetchone()[0]\n",
    "print(f\"Total Revenue: {total_revenue}\")\n",
    "\n",
    "# Average revenue per customer \n",
    "avg_revenue_per_customer = total_revenue/total_customers\n",
    "print(f\"Average revenue per customer: {avg_revenue_per_customer}\")\n",
    "\n",
    "# customer lifetime value (CLV)\n",
    "clv = avg_revenue_per_customer * retention_rate \n",
    "print(f\"Customer Lifetime Value: {clv}\")"
   ]
  },
  {
   "cell_type": "code",
   "execution_count": 133,
   "id": "97aaa11a",
   "metadata": {},
   "outputs": [
    {
     "name": "stdout",
     "output_type": "stream",
     "text": [
      "KPIs AND METRICS: \n",
      "\n",
      "Total customers: 10\n",
      "churned customers: 3\n",
      "Retension rate: 70.00%\n",
      "Churn rate: 30.00%\n",
      "Total Revenue: 2725\n",
      "Average revenue per customer: 272.5\n",
      "Customer Lifetime Value: 190.75\n"
     ]
    }
   ],
   "source": [
    "# Print all of the results together\n",
    "print(\"KPIs AND METRICS:\", \"\\n\")\n",
    "print(f\"Total customers: {total_customers}\")\n",
    "print(f\"churned customers: {churned_customers}\")\n",
    "print(f\"Retension rate: {retention_rate:.2%}\")\n",
    "print(f\"Churn rate: {churn_rate:.2%}\")\n",
    "print(f\"Total Revenue: {total_revenue}\")\n",
    "print(f\"Average revenue per customer: {avg_revenue_per_customer}\")\n",
    "print(f\"Customer Lifetime Value: {clv}\")\n",
    "conn.close()"
   ]
  },
  {
   "cell_type": "markdown",
   "id": "be30f7e9",
   "metadata": {},
   "source": [
    "# Data Visualization "
   ]
  },
  {
   "cell_type": "code",
   "execution_count": 130,
   "id": "f4684922",
   "metadata": {},
   "outputs": [
    {
     "data": {
      "image/png": "[encoded data removed]",
      "text/plain": [
       "<Figure size 432x288 with 1 Axes>"
      ]
     },
     "metadata": {
      "needs_background": "light"
     },
     "output_type": "display_data"
    },
    {
     "data": {
      "image/png": "[encoded data removed]",
      "text/plain": [
       "<Figure size 432x432 with 3 Axes>"
      ]
     },
     "metadata": {
      "needs_background": "light"
     },
     "output_type": "display_data"
    }
   ],
   "source": [
    "# Plot distribustion of customers age\n",
    "sns.distplot(df['age'], color='b')\n",
    "plt.title('Distribustion Of Customers Age')\n",
    "plt.ylabel('Count')\n",
    "plt.xlabel('Age')\n",
    "plt.show()\n",
    "\n",
    "# Plot the revenue compared to each country and separated by age\n",
    "df['purchase_history']= df['purchase_history'].replace('[\\$,]', '', regex=True).astype(float) # converted to a numeric value\n",
    "graph= sns.jointplot(y=df['purchase_history'], x=df['age'], hue=df['location'], palette= 'plasma')\n",
    "plt.ylim(-200, 1200)\n",
    "plt.show()                 "
   ]
  }
 ],
 "metadata": {
  "kernelspec": {
   "display_name": "Python 3 (ipykernel)",
   "language": "python",
   "name": "python3"
  },
  "language_info": {
   "codemirror_mode": {
    "name": "ipython",
    "version": 3
   },
   "file_extension": ".py",
   "mimetype": "text/x-python",
   "name": "python",
   "nbconvert_exporter": "python",
   "pygments_lexer": "ipython3",
   "version": "3.9.12"
  }
 },
 "nbformat": 4,
 "nbformat_minor": 5
}
